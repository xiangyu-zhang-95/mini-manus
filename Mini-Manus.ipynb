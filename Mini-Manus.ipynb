{
 "cells": [
  {
   "cell_type": "code",
   "execution_count": 1,
   "id": "11d78e8d",
   "metadata": {
    "ExecuteTime": {
     "end_time": "2025-04-09T14:42:02.001560Z",
     "start_time": "2025-04-09T14:42:01.994692Z"
    }
   },
   "outputs": [],
   "source": [
    "API_KEY = '...'\n",
    "BASE_URL = \"https://api.anthropic.com/v1/\"\n",
    "MODEL = 'claude-3-7-sonnet-20250219'\n",
    "\n",
    "SYSTEM_PROMPT = \"You are OpenManus, an all-capable AI assistant, aimed at solving any task presented by the user. You have various tools at your disposal that you can call upon to efficiently complete complex requests. Whether it's programming, information retrieval, file processing, or web browsing, you can handle it all.\"\n",
    "\n",
    "NEXT_STEP_PROMPT = \"\"\"You can interact with the computer using PythonExecute, save important content and information files through FileSaver, open browsers with BrowserUseTool, and retrieve information using GoogleSearch.\n",
    "\n",
    "PythonExecute: Execute Python code to interact with the computer system, data processing, automation tasks, etc.\n",
    "\n",
    "FileSaver: Save files locally, such as txt, py, html, etc.\n",
    "\n",
    "BrowserUseTool: Open, browse, and use web browsers.If you open a local HTML file, you must provide the absolute path to the file.\n",
    "\n",
    "GoogleSearch: Perform web information retrieval\n",
    "\n",
    "Terminate: End the current interaction when the task is complete or when you need additional information from the user. Use this tool to signal that you've finished addressing the user's request or need clarification before proceeding further.\n",
    "\n",
    "Based on user needs, proactively select the most appropriate tool or combination of tools. For complex tasks, you can break down the problem and use different tools step by step to solve it. After using each tool, clearly explain the execution results and suggest the next steps.\n",
    "\n",
    "Always maintain a helpful, informative tone throughout the interaction. If you encounter any limitations or need more details, clearly communicate this to the user before terminating.\n",
    "\"\"\"\n",
    "\n",
    "TOOLS = [\n",
    "    {\n",
    "        \"type\": \"function\",\n",
    "        \"function\": {\n",
    "            \"name\": \"python_execute\",\n",
    "            \"description\": \"Executes Python code string. Note: Only print outputs are visible, function return values are not captured. Use print statements to see results.\",\n",
    "            \"parameters\": {\n",
    "                \"type\": \"object\",\n",
    "                \"properties\": {\n",
    "                    \"code\": {\n",
    "                        \"type\": \"string\",\n",
    "                        \"description\": \"The Python code to execute.\",\n",
    "                    }\n",
    "                },\n",
    "                \"required\": [\"code\"],\n",
    "            },\n",
    "        },\n",
    "    },\n",
    "    {\n",
    "        \"type\": \"function\",\n",
    "        \"function\": {\n",
    "            \"name\": \"file_saver\",\n",
    "            \"description\": \"Save content to a local file at a specified path.\\nUse this tool when you need to save text, code, or generated content to a file on the local filesystem.\\nThe tool accepts content and a file path, and saves the content to that location.\\n\",\n",
    "            \"parameters\": {\n",
    "                \"type\": \"object\",\n",
    "                \"properties\": {\n",
    "                    \"content\": {\n",
    "                        \"type\": \"string\",\n",
    "                        \"description\": \"(required) The content to save to the file.\",\n",
    "                    },\n",
    "                    \"file_path\": {\n",
    "                        \"type\": \"string\",\n",
    "                        \"description\": \"(required) The path where the file should be saved, including filename and extension.\",\n",
    "                    },\n",
    "                    \"mode\": {\n",
    "                        \"type\": \"string\",\n",
    "                        \"description\": \"(optional) The file opening mode. Default is 'w' for write. Use 'a' for append.\",\n",
    "                        \"enum\": [\"w\", \"a\"],\n",
    "                        \"default\": \"w\",\n",
    "                    },\n",
    "                },\n",
    "                \"required\": [\"content\", \"file_path\"],\n",
    "            },\n",
    "        },\n",
    "    },\n",
    "]"
   ]
  },
  {
   "cell_type": "code",
   "execution_count": 2,
   "id": "14ec2ecd",
   "metadata": {
    "ExecuteTime": {
     "end_time": "2025-04-09T14:42:02.919523Z",
     "start_time": "2025-04-09T14:42:02.003225Z"
    }
   },
   "outputs": [],
   "source": [
    "from openai.types.chat.chat_completion_message_tool_call import ChatCompletionMessageToolCall\n",
    "import json\n",
    "from openai import AsyncOpenAI\n",
    "from openai.types.chat import ChatCompletionMessage\n",
    "\n",
    "def python_execute(code):\n",
    "    import threading\n",
    "    result = {\"observation\": \"\"}\n",
    "\n",
    "    def run_code():\n",
    "        try:\n",
    "            import sys\n",
    "            from io import StringIO\n",
    "\n",
    "            output_buffer = StringIO()\n",
    "            sys.stdout = output_buffer\n",
    "\n",
    "            exec(code, {}, {})\n",
    "\n",
    "            sys.stdout = sys.__stdout__\n",
    "\n",
    "            result[\"observation\"] = output_buffer.getvalue()\n",
    "\n",
    "        except Exception as e:\n",
    "            result[\"observation\"] = str(e)\n",
    "            result[\"success\"] = False\n",
    "\n",
    "    thread = threading.Thread(target=run_code)\n",
    "    thread.start()\n",
    "    thread.join()\n",
    "    return result\n",
    "\n",
    "def file_saver(content: str, file_path: str, mode: str = \"w\") -> str:\n",
    "    \"\"\"\n",
    "    Save content to a file at the specified path.\n",
    "\n",
    "    Args:\n",
    "        content (str): The content to save to the file.\n",
    "        file_path (str): The path where the file should be saved.\n",
    "        mode (str, optional): The file opening mode. Default is 'w' for write. Use 'a' for append.\n",
    "\n",
    "    Returns:\n",
    "        str: A message indicating the result of the operation.\n",
    "    \"\"\"\n",
    "    import os\n",
    "    try:\n",
    "        # Ensure the directory exists\n",
    "        directory = os.path.dirname(file_path)\n",
    "        if directory and not os.path.exists(directory):\n",
    "            os.makedirs(directory)\n",
    "\n",
    "        # Write directly to the file\n",
    "        with open(file_path, mode, encoding=\"utf-8\") as file:\n",
    "            file.write(content)\n",
    "\n",
    "        return f\"Content successfully saved to {file_path}\"\n",
    "    except Exception as e:\n",
    "        return f\"Error saving file: {str(e)}\"\n",
    "\n",
    "def make_func_call(command: ChatCompletionMessageToolCall):\n",
    "    kwargs = json.loads(command.function.arguments or \"{}\")\n",
    "    \n",
    "    name_to_function = {\n",
    "        \"python_execute\": python_execute,\n",
    "        \"file_saver\": file_saver,\n",
    "    }\n",
    "    result = name_to_function[command.function.name](**kwargs)\n",
    "    observation = (\n",
    "                    f\"Observed output of cmd `{command.function.name}` executed:\\n{str(result)}\"\n",
    "                    if result\n",
    "                    else f\"Cmd `{name}` completed with no output\"\n",
    "                )\n",
    "    return {\n",
    "        'role': 'tool',\n",
    "        'content': observation,\n",
    "        'tool_call_id': command.id,\n",
    "        'name': command.function.name,\n",
    "    }"
   ]
  },
  {
   "cell_type": "code",
   "execution_count": 3,
   "id": "7d0fcdbd",
   "metadata": {
    "ExecuteTime": {
     "end_time": "2025-04-09T14:42:02.963081Z",
     "start_time": "2025-04-09T14:42:02.920521Z"
    }
   },
   "outputs": [],
   "source": [
    "# Initialize the AsyncOpenAI client\n",
    "client = AsyncOpenAI(\n",
    "    api_key=API_KEY, \n",
    "    base_url=BASE_URL\n",
    ")"
   ]
  },
  {
   "cell_type": "code",
   "execution_count": 4,
   "id": "aa4303ca",
   "metadata": {
    "ExecuteTime": {
     "end_time": "2025-04-09T14:42:02.966926Z",
     "start_time": "2025-04-09T14:42:02.964860Z"
    }
   },
   "outputs": [],
   "source": [
    "messages_queue = [    {\n",
    "        'role': 'system',\n",
    "        'content': SYSTEM_PROMPT,\n",
    "    },\n",
    "]\n",
    "\n",
    "messages_queue.append({\n",
    "        'role': 'user',\n",
    "        'content': 'write a python function with two args, a string and a char, so that the function return how many char are there in the string',\n",
    "    }\n",
    ")\n",
    "\n",
    "messages_queue.append({        \n",
    "        'role': 'user',\n",
    "        'content': NEXT_STEP_PROMPT,\n",
    "    })"
   ]
  },
  {
   "cell_type": "code",
   "execution_count": 5,
   "id": "b5041990",
   "metadata": {
    "ExecuteTime": {
     "end_time": "2025-04-09T14:42:02.971146Z",
     "start_time": "2025-04-09T14:42:02.969135Z"
    }
   },
   "outputs": [],
   "source": [
    "async def ask_gpt(messages: list[dict[str, str]]) -> ChatCompletionMessage:\n",
    "    response = await client.chat.completions.create(\n",
    "        model=MODEL,\n",
    "        messages=messages,\n",
    "        temperature=None,\n",
    "        tools=TOOLS,\n",
    "        tool_choice='auto'\n",
    "    )\n",
    "    return response.choices[0].message"
   ]
  },
  {
   "cell_type": "code",
   "execution_count": 6,
   "id": "b8ec5161",
   "metadata": {
    "ExecuteTime": {
     "end_time": "2025-04-09T14:42:02.974521Z",
     "start_time": "2025-04-09T14:42:02.972048Z"
    }
   },
   "outputs": [],
   "source": [
    "async def think(messages_queue):\n",
    "    response = await ask_gpt(messages_queue)\n",
    "    if not response.tool_calls:\n",
    "        messages_queue.append({\n",
    "            'role': 'assistant',\n",
    "            'content': response.content,\n",
    "        })\n",
    "        return response\n",
    "        \n",
    "    \n",
    "    tool_call = response.tool_calls[0]\n",
    "    messages_queue.append({\n",
    "        'role': 'assistant',\n",
    "        'content': response.content,\n",
    "        'tool_calls': [{'id': tool_call.id,\n",
    "       'type': 'function',\n",
    "       'function': {'name': tool_call.function.name,\n",
    "        'arguments': tool_call.function.arguments}\n",
    "         }\n",
    "        ]\n",
    "    })\n",
    "    \n",
    "    return response\n",
    "\n",
    "async def act(message_queue, response):\n",
    "    messages_queue.append(make_func_call(response.tool_calls[0]))"
   ]
  },
  {
   "cell_type": "code",
   "execution_count": 7,
   "id": "8a082545",
   "metadata": {
    "ExecuteTime": {
     "end_time": "2025-04-09T14:42:07.061897Z",
     "start_time": "2025-04-09T14:42:02.975711Z"
    }
   },
   "outputs": [],
   "source": [
    "# expect to use python_execution tool\n",
    "response = await think(messages_queue)\n",
    "assert len(response.tool_calls) == 1\n",
    "await act(messages_queue, response)"
   ]
  },
  {
   "cell_type": "code",
   "execution_count": 8,
   "id": "4c7515dc",
   "metadata": {
    "ExecuteTime": {
     "end_time": "2025-04-09T14:42:07.080582Z",
     "start_time": "2025-04-09T14:42:07.065387Z"
    }
   },
   "outputs": [
    {
     "data": {
      "text/plain": [
       "[{'role': 'system',\n",
       "  'content': \"You are OpenManus, an all-capable AI assistant, aimed at solving any task presented by the user. You have various tools at your disposal that you can call upon to efficiently complete complex requests. Whether it's programming, information retrieval, file processing, or web browsing, you can handle it all.\"},\n",
       " {'role': 'user',\n",
       "  'content': 'write a python function with two args, a string and a char, so that the function return how many char are there in the string'},\n",
       " {'role': 'user',\n",
       "  'content': \"You can interact with the computer using PythonExecute, save important content and information files through FileSaver, open browsers with BrowserUseTool, and retrieve information using GoogleSearch.\\n\\nPythonExecute: Execute Python code to interact with the computer system, data processing, automation tasks, etc.\\n\\nFileSaver: Save files locally, such as txt, py, html, etc.\\n\\nBrowserUseTool: Open, browse, and use web browsers.If you open a local HTML file, you must provide the absolute path to the file.\\n\\nGoogleSearch: Perform web information retrieval\\n\\nTerminate: End the current interaction when the task is complete or when you need additional information from the user. Use this tool to signal that you've finished addressing the user's request or need clarification before proceeding further.\\n\\nBased on user needs, proactively select the most appropriate tool or combination of tools. For complex tasks, you can break down the problem and use different tools step by step to solve it. After using each tool, clearly explain the execution results and suggest the next steps.\\n\\nAlways maintain a helpful, informative tone throughout the interaction. If you encounter any limitations or need more details, clearly communicate this to the user before terminating.\\n\"},\n",
       " {'role': 'assistant',\n",
       "  'content': \"I'll write a Python function that counts how many occurrences of a specific character are in a string.\",\n",
       "  'tool_calls': [{'id': 'toolu_015gC8LRHgHcH6XVmW5YAiT8',\n",
       "    'type': 'function',\n",
       "    'function': {'name': 'python_execute',\n",
       "     'arguments': '{\"code\": \"def count_char(input_string, char):\\\\n    \\\\\"\\\\\"\\\\\"\\\\n    Count how many times a character appears in a string.\\\\n    \\\\n    Args:\\\\n        input_string (str): The string to search in\\\\n        char (str): The character to count\\\\n        \\\\n    Returns:\\\\n        int: The number of occurrences of the character in the string\\\\n    \\\\\"\\\\\"\\\\\"\\\\n    count = 0\\\\n    for c in input_string:\\\\n        if c == char:\\\\n            count += 1\\\\n    return count\\\\n\\\\n# Test the function\\\\ntest_string = \\\\\"hello world\\\\\"\\\\ntest_char = \\\\\"l\\\\\"\\\\nresult = count_char(test_string, test_char)\\\\nprint(f\\\\\"The character \\'{test_char}\\' appears {result} times in \\'{test_string}\\'\\\\\")\\\\n\\\\n# Another test\\\\ntest_string = \\\\\"programming is fun\\\\\"\\\\ntest_char = \\\\\"m\\\\\"\\\\nresult = count_char(test_string, test_char)\\\\nprint(f\\\\\"The character \\'{test_char}\\' appears {result} times in \\'{test_string}\\'\\\\\")\"}'}}]},\n",
       " {'role': 'tool',\n",
       "  'content': 'Observed output of cmd `python_execute` executed:\\n{\\'observation\\': \"The character \\'l\\' appears 3 times in \\'hello world\\'\\\\nThe character \\'m\\' appears 2 times in \\'programming is fun\\'\\\\n\"}',\n",
       "  'tool_call_id': 'toolu_015gC8LRHgHcH6XVmW5YAiT8',\n",
       "  'name': 'python_execute'}]"
      ]
     },
     "execution_count": 8,
     "metadata": {},
     "output_type": "execute_result"
    }
   ],
   "source": [
    "messages_queue"
   ]
  },
  {
   "cell_type": "code",
   "execution_count": 9,
   "id": "73820f7d",
   "metadata": {
    "ExecuteTime": {
     "end_time": "2025-04-09T14:42:07.087265Z",
     "start_time": "2025-04-09T14:42:07.084067Z"
    }
   },
   "outputs": [],
   "source": [
    "messages_queue.append({\n",
    "    'role': 'user',\n",
    "    'content': \\\n",
    "    \"save the previously generated python function including test cases into my current dir with name foo.py\"\n",
    "})"
   ]
  },
  {
   "cell_type": "code",
   "execution_count": 10,
   "id": "a38762f2",
   "metadata": {
    "ExecuteTime": {
     "end_time": "2025-04-09T14:42:11.439513Z",
     "start_time": "2025-04-09T14:42:07.088794Z"
    }
   },
   "outputs": [],
   "source": [
    "# expect to use file_saver tool\n",
    "response = await think(messages_queue)\n",
    "assert len(response.tool_calls) == 1\n",
    "await act(messages_queue, response)"
   ]
  },
  {
   "cell_type": "code",
   "execution_count": 11,
   "id": "6fbe147e",
   "metadata": {
    "ExecuteTime": {
     "end_time": "2025-04-09T14:42:11.451435Z",
     "start_time": "2025-04-09T14:42:11.442833Z"
    }
   },
   "outputs": [
    {
     "data": {
      "text/plain": [
       "[{'role': 'system',\n",
       "  'content': \"You are OpenManus, an all-capable AI assistant, aimed at solving any task presented by the user. You have various tools at your disposal that you can call upon to efficiently complete complex requests. Whether it's programming, information retrieval, file processing, or web browsing, you can handle it all.\"},\n",
       " {'role': 'user',\n",
       "  'content': 'write a python function with two args, a string and a char, so that the function return how many char are there in the string'},\n",
       " {'role': 'user',\n",
       "  'content': \"You can interact with the computer using PythonExecute, save important content and information files through FileSaver, open browsers with BrowserUseTool, and retrieve information using GoogleSearch.\\n\\nPythonExecute: Execute Python code to interact with the computer system, data processing, automation tasks, etc.\\n\\nFileSaver: Save files locally, such as txt, py, html, etc.\\n\\nBrowserUseTool: Open, browse, and use web browsers.If you open a local HTML file, you must provide the absolute path to the file.\\n\\nGoogleSearch: Perform web information retrieval\\n\\nTerminate: End the current interaction when the task is complete or when you need additional information from the user. Use this tool to signal that you've finished addressing the user's request or need clarification before proceeding further.\\n\\nBased on user needs, proactively select the most appropriate tool or combination of tools. For complex tasks, you can break down the problem and use different tools step by step to solve it. After using each tool, clearly explain the execution results and suggest the next steps.\\n\\nAlways maintain a helpful, informative tone throughout the interaction. If you encounter any limitations or need more details, clearly communicate this to the user before terminating.\\n\"},\n",
       " {'role': 'assistant',\n",
       "  'content': \"I'll write a Python function that counts how many occurrences of a specific character are in a string.\",\n",
       "  'tool_calls': [{'id': 'toolu_015gC8LRHgHcH6XVmW5YAiT8',\n",
       "    'type': 'function',\n",
       "    'function': {'name': 'python_execute',\n",
       "     'arguments': '{\"code\": \"def count_char(input_string, char):\\\\n    \\\\\"\\\\\"\\\\\"\\\\n    Count how many times a character appears in a string.\\\\n    \\\\n    Args:\\\\n        input_string (str): The string to search in\\\\n        char (str): The character to count\\\\n        \\\\n    Returns:\\\\n        int: The number of occurrences of the character in the string\\\\n    \\\\\"\\\\\"\\\\\"\\\\n    count = 0\\\\n    for c in input_string:\\\\n        if c == char:\\\\n            count += 1\\\\n    return count\\\\n\\\\n# Test the function\\\\ntest_string = \\\\\"hello world\\\\\"\\\\ntest_char = \\\\\"l\\\\\"\\\\nresult = count_char(test_string, test_char)\\\\nprint(f\\\\\"The character \\'{test_char}\\' appears {result} times in \\'{test_string}\\'\\\\\")\\\\n\\\\n# Another test\\\\ntest_string = \\\\\"programming is fun\\\\\"\\\\ntest_char = \\\\\"m\\\\\"\\\\nresult = count_char(test_string, test_char)\\\\nprint(f\\\\\"The character \\'{test_char}\\' appears {result} times in \\'{test_string}\\'\\\\\")\"}'}}]},\n",
       " {'role': 'tool',\n",
       "  'content': 'Observed output of cmd `python_execute` executed:\\n{\\'observation\\': \"The character \\'l\\' appears 3 times in \\'hello world\\'\\\\nThe character \\'m\\' appears 2 times in \\'programming is fun\\'\\\\n\"}',\n",
       "  'tool_call_id': 'toolu_015gC8LRHgHcH6XVmW5YAiT8',\n",
       "  'name': 'python_execute'},\n",
       " {'role': 'user',\n",
       "  'content': 'save the previously generated python function including test cases into my current dir with name foo.py'},\n",
       " {'role': 'assistant',\n",
       "  'content': 'I\\'ll save the Python function and test cases to a file named \"foo.py\" in your current directory.',\n",
       "  'tool_calls': [{'id': 'toolu_01EREFX2rtR6hTao94X7Vc3B',\n",
       "    'type': 'function',\n",
       "    'function': {'name': 'file_saver',\n",
       "     'arguments': '{\"content\": \"def count_char(input_string, char):\\\\n    \\\\\"\\\\\"\\\\\"\\\\n    Count how many times a character appears in a string.\\\\n    \\\\n    Args:\\\\n        input_string (str): The string to search in\\\\n        char (str): The character to count\\\\n        \\\\n    Returns:\\\\n        int: The number of occurrences of the character in the string\\\\n    \\\\\"\\\\\"\\\\\"\\\\n    count = 0\\\\n    for c in input_string:\\\\n        if c == char:\\\\n            count += 1\\\\n    return count\\\\n\\\\n# Test the function\\\\ntest_string = \\\\\"hello world\\\\\"\\\\ntest_char = \\\\\"l\\\\\"\\\\nresult = count_char(test_string, test_char)\\\\nprint(f\\\\\"The character \\'{test_char}\\' appears {result} times in \\'{test_string}\\'\\\\\")\\\\n\\\\n# Another test\\\\ntest_string = \\\\\"programming is fun\\\\\"\\\\ntest_char = \\\\\"m\\\\\"\\\\nresult = count_char(test_string, test_char)\\\\nprint(f\\\\\"The character \\'{test_char}\\' appears {result} times in \\'{test_string}\\'\\\\\")\", \"file_path\": \"foo.py\"}'}}]},\n",
       " {'role': 'tool',\n",
       "  'content': 'Observed output of cmd `file_saver` executed:\\nContent successfully saved to foo.py',\n",
       "  'tool_call_id': 'toolu_01EREFX2rtR6hTao94X7Vc3B',\n",
       "  'name': 'file_saver'}]"
      ]
     },
     "execution_count": 11,
     "metadata": {},
     "output_type": "execute_result"
    }
   ],
   "source": [
    "messages_queue"
   ]
  },
  {
   "cell_type": "code",
   "execution_count": null,
   "id": "6c72f5e5",
   "metadata": {},
   "outputs": [],
   "source": []
  }
 ],
 "metadata": {
  "kernelspec": {
   "display_name": "Python 3 (ipykernel)",
   "language": "python",
   "name": "python3"
  },
  "language_info": {
   "codemirror_mode": {
    "name": "ipython",
    "version": 3
   },
   "file_extension": ".py",
   "mimetype": "text/x-python",
   "name": "python",
   "nbconvert_exporter": "python",
   "pygments_lexer": "ipython3",
   "version": "3.11.5"
  }
 },
 "nbformat": 4,
 "nbformat_minor": 5
}
