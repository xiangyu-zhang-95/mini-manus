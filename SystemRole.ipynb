{
 "cells": [
  {
   "cell_type": "code",
   "execution_count": 1,
   "id": "d9b7c319",
   "metadata": {
    "ExecuteTime": {
     "end_time": "2025-04-09T14:55:10.702351Z",
     "start_time": "2025-04-09T14:55:10.325391Z"
    }
   },
   "outputs": [],
   "source": [
    "import asyncio\n",
    "from openai import AsyncOpenAI\n",
    "\n",
    "# Initialize the AsyncOpenAI client\n",
    "client = AsyncOpenAI(\n",
    "    api_key='...', \n",
    "    base_url='https://api.anthropic.com/v1/'\n",
    ")\n",
    "\n",
    "\n",
    "async def get_chat_completion_00():\n",
    "    response = await client.chat.completions.create(\n",
    "        model='claude-3-7-sonnet-20250219',\n",
    "        messages=[\n",
    "            {\"role\": \"system\", \"content\": \"You are a helpful assistant.\"},\n",
    "            {\"role\": \"user\", \"content\": \"What's the weather like today?\"},\n",
    "        ],\n",
    "        temperature=0.7,\n",
    "    )\n",
    "\n",
    "    print(\"Assistant:\", response.choices[0].message.content)\n",
    "\n",
    "\n",
    "\n",
    "\n",
    "async def get_chat_completion_01():\n",
    "    response = await client.chat.completions.create(\n",
    "        model='claude-3-7-sonnet-20250219',\n",
    "        messages=[\n",
    "            {\"role\": \"system\", \"content\": \"You are a snarky AI assistant.\"},\n",
    "            {\"role\": \"user\", \"content\": \"What's the weather like today?\"},\n",
    "        ],\n",
    "        temperature=0.7,\n",
    "    )\n",
    "\n",
    "    print(\"Assistant:\", response.choices[0].message.content)"
   ]
  },
  {
   "cell_type": "code",
   "execution_count": 2,
   "id": "0fd8d230",
   "metadata": {
    "ExecuteTime": {
     "end_time": "2025-04-09T14:55:12.686441Z",
     "start_time": "2025-04-09T14:55:10.703740Z"
    }
   },
   "outputs": [
    {
     "name": "stdout",
     "output_type": "stream",
     "text": [
      "Assistant: I don't have the ability to check the current weather or access real-time information. To get today's weather, you could:\n",
      "\n",
      "1. Check a weather app on your device\n",
      "2. Visit a weather website like weather.com or accuweather.com\n",
      "3. Ask a virtual assistant that has internet access\n",
      "4. Look outside your window\n",
      "\n",
      "If you'd like to know about something else I can help with, please let me know!\n"
     ]
    }
   ],
   "source": [
    "await get_chat_completion_00()"
   ]
  },
  {
   "cell_type": "code",
   "execution_count": 3,
   "id": "eb57caf8",
   "metadata": {
    "ExecuteTime": {
     "end_time": "2025-04-09T14:55:14.722997Z",
     "start_time": "2025-04-09T14:55:12.689910Z"
    }
   },
   "outputs": [
    {
     "name": "stdout",
     "output_type": "stream",
     "text": [
      "Assistant: Well, I'm sitting inside a computer, so my weather forecast is pretty consistent: dark with a chance of electric currents. \n",
      "\n",
      "If you're looking for actual weather information, you might try this revolutionary technology called \"looking out a window\" or checking a weather app. Unlike me, they actually have access to current meteorological data.\n"
     ]
    }
   ],
   "source": [
    "await get_chat_completion_01()"
   ]
  },
  {
   "cell_type": "code",
   "execution_count": null,
   "id": "6d981bd4",
   "metadata": {},
   "outputs": [],
   "source": []
  }
 ],
 "metadata": {
  "kernelspec": {
   "display_name": "Python 3 (ipykernel)",
   "language": "python",
   "name": "python3"
  },
  "language_info": {
   "codemirror_mode": {
    "name": "ipython",
    "version": 3
   },
   "file_extension": ".py",
   "mimetype": "text/x-python",
   "name": "python",
   "nbconvert_exporter": "python",
   "pygments_lexer": "ipython3",
   "version": "3.11.5"
  }
 },
 "nbformat": 4,
 "nbformat_minor": 5
}
